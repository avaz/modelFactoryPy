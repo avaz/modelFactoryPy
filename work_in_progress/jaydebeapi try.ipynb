{
 "cells": [
  {
   "cell_type": "code",
   "execution_count": 5,
   "metadata": {
    "collapsed": false
   },
   "outputs": [],
   "source": [
    "import jaydebeapi\n",
    "import pandas as pd\n",
    "import numpy as np\n",
    "\n",
    "\n",
    "\n",
    "conn = jaydebeapi.connect(\"com.asterdata.ncluster.Driver\",\n",
    "        'jdbc:ncluster://host:port/beehive',['user', 'pw']\n",
    "        ,'noarch-aster-jdbc-driver.jar')\n",
    "\n",
    "#def exec_sql(sql):\n",
    "#    curs = conn.cursor()\n",
    "#    curs.execute(sql)\n",
    "#    curs.close()"
   ]
  },
  {
   "cell_type": "code",
   "execution_count": 28,
   "metadata": {
    "collapsed": false
   },
   "outputs": [],
   "source": [
    "sql = \"\"\" \n",
    "select * from nc_system.nc_all_schemas\n",
    "\"\"\" \n",
    "\n",
    "table = pd.read_sql(sql,conn)"
   ]
  }
 ],
 "metadata": {
  "anaconda-cloud": {},
  "kernelspec": {
   "display_name": "Python [default]",
   "language": "python",
   "name": "python2"
  },
  "language_info": {
   "codemirror_mode": {
    "name": "ipython",
    "version": 2
   },
   "file_extension": ".py",
   "mimetype": "text/x-python",
   "name": "python",
   "nbconvert_exporter": "python",
   "pygments_lexer": "ipython2",
   "version": "2.7.12"
  }
 },
 "nbformat": 4,
 "nbformat_minor": 2
}
